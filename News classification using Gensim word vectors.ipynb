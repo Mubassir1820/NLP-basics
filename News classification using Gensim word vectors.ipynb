{
 "cells": [
  {
   "cell_type": "code",
   "execution_count": 1,
   "id": "d2ade8c0",
   "metadata": {},
   "outputs": [],
   "source": [
    "import gensim.downloader as api\n",
    "wv = api.load('word2vec-google-news-300')"
   ]
  },
  {
   "cell_type": "code",
   "execution_count": 2,
   "id": "77d9fdfe",
   "metadata": {},
   "outputs": [
    {
     "data": {
      "text/plain": [
       "0.72915095"
      ]
     },
     "execution_count": 2,
     "metadata": {},
     "output_type": "execute_result"
    }
   ],
   "source": [
    "wv.similarity(w1 = 'great', w2 = 'good')"
   ]
  },
  {
   "cell_type": "code",
   "execution_count": 3,
   "id": "cfdc22f2",
   "metadata": {},
   "outputs": [],
   "source": [
    "wv_great = wv['great']\n",
    "wv_good = wv['good']"
   ]
  },
  {
   "cell_type": "code",
   "execution_count": 4,
   "id": "b06bbee7",
   "metadata": {},
   "outputs": [
    {
     "data": {
      "text/plain": [
       "(9900, 2)"
      ]
     },
     "execution_count": 4,
     "metadata": {},
     "output_type": "execute_result"
    }
   ],
   "source": [
    "import pandas as pd\n",
    "\n",
    "df = pd.read_csv('fake_and_real_news.csv')\n",
    "df.shape"
   ]
  },
  {
   "cell_type": "code",
   "execution_count": 5,
   "id": "736e3814",
   "metadata": {},
   "outputs": [
    {
     "data": {
      "text/html": [
       "<div>\n",
       "<style scoped>\n",
       "    .dataframe tbody tr th:only-of-type {\n",
       "        vertical-align: middle;\n",
       "    }\n",
       "\n",
       "    .dataframe tbody tr th {\n",
       "        vertical-align: top;\n",
       "    }\n",
       "\n",
       "    .dataframe thead th {\n",
       "        text-align: right;\n",
       "    }\n",
       "</style>\n",
       "<table border=\"1\" class=\"dataframe\">\n",
       "  <thead>\n",
       "    <tr style=\"text-align: right;\">\n",
       "      <th></th>\n",
       "      <th>Text</th>\n",
       "      <th>label</th>\n",
       "    </tr>\n",
       "  </thead>\n",
       "  <tbody>\n",
       "    <tr>\n",
       "      <th>0</th>\n",
       "      <td>Top Trump Surrogate BRUTALLY Stabs Him In The...</td>\n",
       "      <td>Fake</td>\n",
       "    </tr>\n",
       "    <tr>\n",
       "      <th>1</th>\n",
       "      <td>U.S. conservative leader optimistic of common ...</td>\n",
       "      <td>Real</td>\n",
       "    </tr>\n",
       "    <tr>\n",
       "      <th>2</th>\n",
       "      <td>Trump proposes U.S. tax overhaul, stirs concer...</td>\n",
       "      <td>Real</td>\n",
       "    </tr>\n",
       "    <tr>\n",
       "      <th>3</th>\n",
       "      <td>Court Forces Ohio To Allow Millions Of Illega...</td>\n",
       "      <td>Fake</td>\n",
       "    </tr>\n",
       "    <tr>\n",
       "      <th>4</th>\n",
       "      <td>Democrats say Trump agrees to work on immigrat...</td>\n",
       "      <td>Real</td>\n",
       "    </tr>\n",
       "  </tbody>\n",
       "</table>\n",
       "</div>"
      ],
      "text/plain": [
       "                                                Text label\n",
       "0   Top Trump Surrogate BRUTALLY Stabs Him In The...  Fake\n",
       "1  U.S. conservative leader optimistic of common ...  Real\n",
       "2  Trump proposes U.S. tax overhaul, stirs concer...  Real\n",
       "3   Court Forces Ohio To Allow Millions Of Illega...  Fake\n",
       "4  Democrats say Trump agrees to work on immigrat...  Real"
      ]
     },
     "execution_count": 5,
     "metadata": {},
     "output_type": "execute_result"
    }
   ],
   "source": [
    "df.head()"
   ]
  },
  {
   "cell_type": "code",
   "execution_count": 6,
   "id": "6dd2ca63",
   "metadata": {},
   "outputs": [
    {
     "data": {
      "text/plain": [
       "Fake    5000\n",
       "Real    4900\n",
       "Name: label, dtype: int64"
      ]
     },
     "execution_count": 6,
     "metadata": {},
     "output_type": "execute_result"
    }
   ],
   "source": [
    "df.label.value_counts()"
   ]
  },
  {
   "cell_type": "code",
   "execution_count": 7,
   "id": "b2c3940d",
   "metadata": {},
   "outputs": [
    {
     "data": {
      "text/html": [
       "<div>\n",
       "<style scoped>\n",
       "    .dataframe tbody tr th:only-of-type {\n",
       "        vertical-align: middle;\n",
       "    }\n",
       "\n",
       "    .dataframe tbody tr th {\n",
       "        vertical-align: top;\n",
       "    }\n",
       "\n",
       "    .dataframe thead th {\n",
       "        text-align: right;\n",
       "    }\n",
       "</style>\n",
       "<table border=\"1\" class=\"dataframe\">\n",
       "  <thead>\n",
       "    <tr style=\"text-align: right;\">\n",
       "      <th></th>\n",
       "      <th>Text</th>\n",
       "      <th>label</th>\n",
       "      <th>label_num</th>\n",
       "    </tr>\n",
       "  </thead>\n",
       "  <tbody>\n",
       "    <tr>\n",
       "      <th>0</th>\n",
       "      <td>Top Trump Surrogate BRUTALLY Stabs Him In The...</td>\n",
       "      <td>Fake</td>\n",
       "      <td>0</td>\n",
       "    </tr>\n",
       "    <tr>\n",
       "      <th>1</th>\n",
       "      <td>U.S. conservative leader optimistic of common ...</td>\n",
       "      <td>Real</td>\n",
       "      <td>1</td>\n",
       "    </tr>\n",
       "    <tr>\n",
       "      <th>2</th>\n",
       "      <td>Trump proposes U.S. tax overhaul, stirs concer...</td>\n",
       "      <td>Real</td>\n",
       "      <td>1</td>\n",
       "    </tr>\n",
       "    <tr>\n",
       "      <th>3</th>\n",
       "      <td>Court Forces Ohio To Allow Millions Of Illega...</td>\n",
       "      <td>Fake</td>\n",
       "      <td>0</td>\n",
       "    </tr>\n",
       "    <tr>\n",
       "      <th>4</th>\n",
       "      <td>Democrats say Trump agrees to work on immigrat...</td>\n",
       "      <td>Real</td>\n",
       "      <td>1</td>\n",
       "    </tr>\n",
       "  </tbody>\n",
       "</table>\n",
       "</div>"
      ],
      "text/plain": [
       "                                                Text label  label_num\n",
       "0   Top Trump Surrogate BRUTALLY Stabs Him In The...  Fake          0\n",
       "1  U.S. conservative leader optimistic of common ...  Real          1\n",
       "2  Trump proposes U.S. tax overhaul, stirs concer...  Real          1\n",
       "3   Court Forces Ohio To Allow Millions Of Illega...  Fake          0\n",
       "4  Democrats say Trump agrees to work on immigrat...  Real          1"
      ]
     },
     "execution_count": 7,
     "metadata": {},
     "output_type": "execute_result"
    }
   ],
   "source": [
    "df['label_num'] = df.label.map({\n",
    "    'Fake': 0,\n",
    "    'Real': 1\n",
    "})\n",
    "df.head()"
   ]
  },
  {
   "cell_type": "code",
   "execution_count": 18,
   "id": "d48f37ec",
   "metadata": {},
   "outputs": [],
   "source": [
    "import spacy\n",
    "nlp = spacy.load('en_core_web_lg')\n",
    "\n",
    "def preprocess_and_vectorize(text):\n",
    "    doc = nlp(text)\n",
    "    \n",
    "    filtered_tokens = []\n",
    "    for token in doc:\n",
    "        if token.is_punct or token.is_stop:\n",
    "            continue\n",
    "        filtered_tokens.append(token.lemma_) \n",
    "        \n",
    "    vectors = []\n",
    "    for token in filtered_tokens:\n",
    "        try:\n",
    "            vectors.append(wv[token])\n",
    "        except KeyError:\n",
    "            continue\n",
    "    return np.mean(vectors, axis=0)"
   ]
  },
  {
   "cell_type": "code",
   "execution_count": 20,
   "id": "32871589",
   "metadata": {},
   "outputs": [
    {
     "data": {
      "text/plain": [
       "(300,)"
      ]
     },
     "execution_count": 20,
     "metadata": {},
     "output_type": "execute_result"
    }
   ],
   "source": [
    "preprocess_and_vectorize(\"Don't worry if you don't understand\").shape"
   ]
  },
  {
   "cell_type": "code",
   "execution_count": 13,
   "id": "bf130212",
   "metadata": {},
   "outputs": [
    {
     "data": {
      "text/plain": [
       "array([ 0.00976562, -0.00561523, -0.08905029,  0.01330566, -0.2709961 ,\n",
       "        0.14746094,  0.3408203 , -0.01840591,  0.15161133, -0.06945801,\n",
       "       -0.05749512, -0.17822266, -0.03805542,  0.08730698, -0.22216797,\n",
       "        0.2578125 ,  0.06481934,  0.29589844,  0.00537109, -0.1875    ,\n",
       "       -0.1159668 ,  0.0715332 ,  0.08691406,  0.05912399,  0.18359375,\n",
       "        0.17687988,  0.09130859, -0.22705078,  0.10522461, -0.2475586 ,\n",
       "       -0.02436638,  0.01245117, -0.06616211, -0.02587891,  0.13476562,\n",
       "       -0.02604675,  0.06582642,  0.0612793 ,  0.07128906,  0.13867188,\n",
       "        0.03234863, -0.03295898,  0.17736816, -0.08789062, -0.21777344,\n",
       "       -0.11010742, -0.08728027, -0.01922607, -0.04943848,  0.05273438,\n",
       "       -0.18066406,  0.13122559, -0.07498932, -0.10064697, -0.01171875,\n",
       "        0.12963867, -0.10766602, -0.14624023,  0.11303711, -0.12280273,\n",
       "       -0.03540039,  0.03601074, -0.01379395,  0.01042175,  0.1105957 ,\n",
       "       -0.03820801, -0.20751953,  0.1352539 , -0.0625    , -0.01171875,\n",
       "        0.1003418 ,  0.13110352,  0.13232422, -0.06982422, -0.27319336,\n",
       "       -0.0579071 ,  0.03814697,  0.22070312,  0.05551147,  0.3330078 ,\n",
       "       -0.08251953,  0.10192871,  0.09521484,  0.10546875, -0.14331055,\n",
       "       -0.11083984, -0.23535156,  0.15014648,  0.01416016, -0.06171417,\n",
       "        0.01721191, -0.01123047, -0.17529297, -0.09301758, -0.07348633,\n",
       "       -0.12036133,  0.20410156,  0.00927734,  0.05957031,  0.05273438,\n",
       "       -0.11874962,  0.03303528, -0.01074219,  0.10217285,  0.04748535,\n",
       "        0.01245117, -0.04003906, -0.05134583,  0.14331055, -0.08398438,\n",
       "       -0.16455078, -0.14428711, -0.03356934,  0.02108765, -0.03173828,\n",
       "       -0.10424805,  0.17773438, -0.04595947, -0.12882996,  0.09228516,\n",
       "       -0.23754883,  0.19580078, -0.18457031,  0.19311523, -0.03485107,\n",
       "       -0.18017578, -0.20922852,  0.0559082 , -0.08605957, -0.07958984,\n",
       "        0.10083008, -0.2475586 , -0.06921387,  0.04638672,  0.21826172,\n",
       "       -0.2006836 ,  0.05957031,  0.30908203,  0.06060791,  0.02990723,\n",
       "        0.06884766, -0.15020752, -0.03399658, -0.01098633, -0.02880859,\n",
       "       -0.00292969,  0.05871582, -0.03564453, -0.03381348, -0.21948242,\n",
       "       -0.03915405,  0.02191925, -0.04150391,  0.01670837, -0.02694702,\n",
       "        0.02563477, -0.25390625, -0.08740234, -0.28027344,  0.00283432,\n",
       "        0.15820312,  0.10839844, -0.06127167, -0.15917969,  0.11981201,\n",
       "       -0.04638672,  0.05358887, -0.11646271,  0.15332031,  0.05737305,\n",
       "       -0.15307617,  0.00097656,  0.09558105, -0.01266479,  0.0222168 ,\n",
       "        0.00610352,  0.19970703,  0.00427246, -0.06845093, -0.0345459 ,\n",
       "       -0.01733398,  0.05737305,  0.32128906,  0.0550766 , -0.08178711,\n",
       "       -0.01953125, -0.08068848,  0.02464294, -0.07421875,  0.1484375 ,\n",
       "       -0.09741211, -0.15600586,  0.11425781,  0.09326172, -0.04492188,\n",
       "       -0.01086426, -0.05081177,  0.04760742,  0.01708984, -0.15527344,\n",
       "        0.11138916,  0.015625  , -0.21240234, -0.04370117, -0.08135986,\n",
       "        0.02258301, -0.07800293, -0.06542969, -0.06544495, -0.08154297,\n",
       "       -0.0123291 ,  0.2553711 , -0.00415039, -0.16894531, -0.23339844,\n",
       "       -0.07781219,  0.07324219, -0.16210938, -0.15893555, -0.08300781,\n",
       "       -0.02526855, -0.1262207 , -0.1381836 , -0.09838867, -0.01074219,\n",
       "       -0.27783203,  0.04492188,  0.00748825, -0.10726929, -0.04882812,\n",
       "       -0.01416016, -0.00927734,  0.12768555,  0.09741211,  0.07788086,\n",
       "        0.06163025,  0.02268982, -0.1184082 , -0.08178711, -0.08288574,\n",
       "       -0.17651367,  0.09863281, -0.00561523,  0.06860352, -0.25878906,\n",
       "        0.05804443,  0.0736084 ,  0.06164551, -0.04150391, -0.06311035,\n",
       "       -0.02124023,  0.08201218,  0.15917969,  0.07409668, -0.07104492,\n",
       "       -0.09619141, -0.05764771,  0.13671875, -0.04992676,  0.05151367,\n",
       "       -0.04199219, -0.01123047, -0.2397461 ,  0.05712891, -0.0402832 ,\n",
       "        0.12695312,  0.08886719, -0.08691406, -0.1027832 , -0.04324341,\n",
       "       -0.00708008,  0.16186523,  0.27392578, -0.05444336, -0.09399414,\n",
       "       -0.18652344, -0.1784668 , -0.23046875,  0.03808594, -0.17236328,\n",
       "        0.07556152, -0.11230469,  0.08959961,  0.01782227,  0.03378296,\n",
       "       -0.0137639 , -0.10766602,  0.23046875,  0.13720703,  0.0201416 ,\n",
       "       -0.00134277,  0.03894043,  0.00704956, -0.02587891, -0.16226959,\n",
       "       -0.10131836, -0.08911133, -0.05664062,  0.1850586 , -0.01269531],\n",
       "      dtype=float32)"
      ]
     },
     "execution_count": 13,
     "metadata": {},
     "output_type": "execute_result"
    }
   ],
   "source": [
    "v1 = wv[\"worry\"]\n",
    "v2 = wv[\"understand\"]\n",
    "\n",
    "import numpy as np\n",
    "np.mean([v1,v2],axis = 0)"
   ]
  },
  {
   "cell_type": "code",
   "execution_count": 21,
   "id": "96d57a8f",
   "metadata": {},
   "outputs": [],
   "source": [
    "df['vector'] = df['Text'].apply(lambda text: preprocess_and_vectorize(text))"
   ]
  },
  {
   "cell_type": "code",
   "execution_count": 22,
   "id": "44a5fa0c",
   "metadata": {},
   "outputs": [
    {
     "data": {
      "text/html": [
       "<div>\n",
       "<style scoped>\n",
       "    .dataframe tbody tr th:only-of-type {\n",
       "        vertical-align: middle;\n",
       "    }\n",
       "\n",
       "    .dataframe tbody tr th {\n",
       "        vertical-align: top;\n",
       "    }\n",
       "\n",
       "    .dataframe thead th {\n",
       "        text-align: right;\n",
       "    }\n",
       "</style>\n",
       "<table border=\"1\" class=\"dataframe\">\n",
       "  <thead>\n",
       "    <tr style=\"text-align: right;\">\n",
       "      <th></th>\n",
       "      <th>Text</th>\n",
       "      <th>label</th>\n",
       "      <th>label_num</th>\n",
       "      <th>vector</th>\n",
       "    </tr>\n",
       "  </thead>\n",
       "  <tbody>\n",
       "    <tr>\n",
       "      <th>0</th>\n",
       "      <td>Top Trump Surrogate BRUTALLY Stabs Him In The...</td>\n",
       "      <td>Fake</td>\n",
       "      <td>0</td>\n",
       "      <td>[0.024825068, 0.051911708, -0.040826198, 0.083...</td>\n",
       "    </tr>\n",
       "    <tr>\n",
       "      <th>1</th>\n",
       "      <td>U.S. conservative leader optimistic of common ...</td>\n",
       "      <td>Real</td>\n",
       "      <td>1</td>\n",
       "      <td>[0.03272779, 0.021770593, -0.0007758863, 0.044...</td>\n",
       "    </tr>\n",
       "    <tr>\n",
       "      <th>2</th>\n",
       "      <td>Trump proposes U.S. tax overhaul, stirs concer...</td>\n",
       "      <td>Real</td>\n",
       "      <td>1</td>\n",
       "      <td>[0.053966843, 0.016407834, -0.020710936, 0.103...</td>\n",
       "    </tr>\n",
       "    <tr>\n",
       "      <th>3</th>\n",
       "      <td>Court Forces Ohio To Allow Millions Of Illega...</td>\n",
       "      <td>Fake</td>\n",
       "      <td>0</td>\n",
       "      <td>[0.03475553, 0.029535385, -0.0011190036, 0.051...</td>\n",
       "    </tr>\n",
       "    <tr>\n",
       "      <th>4</th>\n",
       "      <td>Democrats say Trump agrees to work on immigrat...</td>\n",
       "      <td>Real</td>\n",
       "      <td>1</td>\n",
       "      <td>[-0.0016789786, 0.034640685, 0.006223632, 0.08...</td>\n",
       "    </tr>\n",
       "  </tbody>\n",
       "</table>\n",
       "</div>"
      ],
      "text/plain": [
       "                                                Text label  label_num  \\\n",
       "0   Top Trump Surrogate BRUTALLY Stabs Him In The...  Fake          0   \n",
       "1  U.S. conservative leader optimistic of common ...  Real          1   \n",
       "2  Trump proposes U.S. tax overhaul, stirs concer...  Real          1   \n",
       "3   Court Forces Ohio To Allow Millions Of Illega...  Fake          0   \n",
       "4  Democrats say Trump agrees to work on immigrat...  Real          1   \n",
       "\n",
       "                                              vector  \n",
       "0  [0.024825068, 0.051911708, -0.040826198, 0.083...  \n",
       "1  [0.03272779, 0.021770593, -0.0007758863, 0.044...  \n",
       "2  [0.053966843, 0.016407834, -0.020710936, 0.103...  \n",
       "3  [0.03475553, 0.029535385, -0.0011190036, 0.051...  \n",
       "4  [-0.0016789786, 0.034640685, 0.006223632, 0.08...  "
      ]
     },
     "execution_count": 22,
     "metadata": {},
     "output_type": "execute_result"
    }
   ],
   "source": [
    "df.head()"
   ]
  },
  {
   "cell_type": "code",
   "execution_count": 23,
   "id": "1caddf4e",
   "metadata": {},
   "outputs": [],
   "source": [
    "from sklearn.model_selection import train_test_split\n",
    "\n",
    "X_train, X_test, y_train, y_test = train_test_split(\n",
    "    df.vector.values,\n",
    "    df.label_num,\n",
    "    test_size = 0.2,\n",
    "    random_state = 1,\n",
    "    stratify = df.label_num\n",
    ")"
   ]
  },
  {
   "cell_type": "code",
   "execution_count": 24,
   "id": "cd448290",
   "metadata": {},
   "outputs": [],
   "source": [
    "# Reshaping the X_train and X_test so as to fit for models"
   ]
  },
  {
   "cell_type": "code",
   "execution_count": 25,
   "id": "710c5197",
   "metadata": {},
   "outputs": [
    {
     "name": "stdout",
     "output_type": "stream",
     "text": [
      "shape of X_train before reshaping:  (7920,)\n",
      "shape of X_test before reshaping:  (1980,)\n",
      "shape of X_train after reshaping:  (7920, 300)\n",
      "shape of X_test after reshaping:  (1980, 300)\n"
     ]
    }
   ],
   "source": [
    "print('shape of X_train before reshaping: ', X_train.shape)\n",
    "print('shape of X_test before reshaping: ', X_test.shape)\n",
    "\n",
    "X_train_2d = np.stack(X_train)\n",
    "X_test_2d = np.stack(X_test)\n",
    "\n",
    "print('shape of X_train after reshaping: ', X_train_2d.shape)\n",
    "print('shape of X_test after reshaping: ', X_test_2d.shape)"
   ]
  },
  {
   "cell_type": "code",
   "execution_count": 29,
   "id": "b2659f9c",
   "metadata": {},
   "outputs": [
    {
     "name": "stdout",
     "output_type": "stream",
     "text": [
      "              precision    recall  f1-score   support\n",
      "\n",
      "           0       0.99      0.97      0.98      1000\n",
      "           1       0.97      0.99      0.98       980\n",
      "\n",
      "    accuracy                           0.98      1980\n",
      "   macro avg       0.98      0.98      0.98      1980\n",
      "weighted avg       0.98      0.98      0.98      1980\n",
      "\n"
     ]
    }
   ],
   "source": [
    "from sklearn.ensemble import GradientBoostingClassifier\n",
    "from sklearn.metrics import classification_report\n",
    "\n",
    "clf = GradientBoostingClassifier()\n",
    "\n",
    "clf.fit(X_train_2d, y_train)\n",
    "\n",
    "y_pred = clf.predict(X_test_2d)\n",
    "\n",
    "print(classification_report(y_test, y_pred))"
   ]
  },
  {
   "cell_type": "code",
   "execution_count": 30,
   "id": "dd52fb9d",
   "metadata": {},
   "outputs": [
    {
     "data": {
      "text/plain": [
       "array([0], dtype=int64)"
      ]
     },
     "execution_count": 30,
     "metadata": {},
     "output_type": "execute_result"
    }
   ],
   "source": [
    "# Make some predictions\n",
    "\n",
    "test_news = ['Watch: Donald Trump kiling his son in a brutal fight.Exclusive on Fox news!!!']\n",
    "\n",
    "test_news_vectors = [preprocess_and_vectorize(n) for n in test_news]\n",
    "clf.predict(test_news_vectors)"
   ]
  },
  {
   "cell_type": "code",
   "execution_count": null,
   "id": "7abb1985",
   "metadata": {},
   "outputs": [],
   "source": []
  }
 ],
 "metadata": {
  "kernelspec": {
   "display_name": "Python 3 (ipykernel)",
   "language": "python",
   "name": "python3"
  },
  "language_info": {
   "codemirror_mode": {
    "name": "ipython",
    "version": 3
   },
   "file_extension": ".py",
   "mimetype": "text/x-python",
   "name": "python",
   "nbconvert_exporter": "python",
   "pygments_lexer": "ipython3",
   "version": "3.9.12"
  }
 },
 "nbformat": 4,
 "nbformat_minor": 5
}
