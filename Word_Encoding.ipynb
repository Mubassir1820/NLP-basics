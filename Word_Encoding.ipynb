{
  "nbformat": 4,
  "nbformat_minor": 0,
  "metadata": {
    "colab": {
      "provenance": [],
      "authorship_tag": "ABX9TyNZsGz8fAX256leq3ue8ODD",
      "include_colab_link": true
    },
    "kernelspec": {
      "name": "python3",
      "display_name": "Python 3"
    },
    "language_info": {
      "name": "python"
    }
  },
  "cells": [
    {
      "cell_type": "markdown",
      "metadata": {
        "id": "view-in-github",
        "colab_type": "text"
      },
      "source": [
        "<a href=\"https://colab.research.google.com/github/Mubassir1820/NLP-basics/blob/main/Word_Encoding.ipynb\" target=\"_parent\"><img src=\"https://colab.research.google.com/assets/colab-badge.svg\" alt=\"Open In Colab\"/></a>"
      ]
    },
    {
      "cell_type": "markdown",
      "source": [
        "Import Libraries and APIs"
      ],
      "metadata": {
        "id": "LaBFXWlFkO4g"
      }
    },
    {
      "cell_type": "code",
      "execution_count": null,
      "metadata": {
        "id": "OBLPu_k-jniw"
      },
      "outputs": [],
      "source": [
        "import tensorflow as tf\n",
        "from tensorflow import keras\n",
        "from tensorflow.keras.preprocessing.text import Tokenizer"
      ]
    },
    {
      "cell_type": "markdown",
      "source": [
        "Define Training Sentences"
      ],
      "metadata": {
        "id": "T60tahpXkTqA"
      }
    },
    {
      "cell_type": "code",
      "source": [
        "#Sentences to tokenize\n",
        "train_sentences = [\n",
        "    'It is a sunny day'\n",
        "    #add a new sentence here\n",
        "]"
      ],
      "metadata": {
        "id": "YsdaPirekMKU"
      },
      "execution_count": null,
      "outputs": []
    },
    {
      "cell_type": "markdown",
      "source": [
        "Setup the Tokenizer"
      ],
      "metadata": {
        "id": "44WyDX5ckyF2"
      }
    },
    {
      "cell_type": "code",
      "source": [
        "tokenizer = Tokenizer(num_words = 100) #Instantiate\n",
        "tokenizer.fit_on_texts(train_sentences) #train\n",
        "word_index = tokenizer.word_index #store words"
      ],
      "metadata": {
        "id": "2cBs5HIjkpqk"
      },
      "execution_count": null,
      "outputs": []
    },
    {
      "cell_type": "code",
      "source": [
        "print(word_index)"
      ],
      "metadata": {
        "colab": {
          "base_uri": "https://localhost:8080/"
        },
        "id": "b_x36pb6lhZi",
        "outputId": "bba61412-020c-4949-af5c-d1b4c4129dd1"
      },
      "execution_count": null,
      "outputs": [
        {
          "output_type": "stream",
          "name": "stdout",
          "text": [
            "{'it': 1, 'is': 2, 'a': 3, 'sunny': 4, 'day': 5}\n"
          ]
        }
      ]
    },
    {
      "cell_type": "markdown",
      "source": [
        "Creating Sequence of tokens"
      ],
      "metadata": {
        "id": "pUNP-Sjdpc3U"
      }
    },
    {
      "cell_type": "code",
      "source": [
        "from tensorflow.keras.preprocessing.text import Tokenizer"
      ],
      "metadata": {
        "id": "xwlIvZ24pcmc"
      },
      "execution_count": null,
      "outputs": []
    },
    {
      "cell_type": "markdown",
      "source": [
        "Define Training sentences in a list"
      ],
      "metadata": {
        "id": "NdTHCaEgq1Oe"
      }
    },
    {
      "cell_type": "code",
      "source": [
        "train_sentences = [\n",
        "    'It is a sunny day',\n",
        "    'It is a cloudy day',\n",
        "    'will it rain today?'\n",
        "]"
      ],
      "metadata": {
        "id": "xzjHPMxKq0_I"
      },
      "execution_count": null,
      "outputs": []
    },
    {
      "cell_type": "markdown",
      "source": [
        "Setup the Tokenizer"
      ],
      "metadata": {
        "id": "YMaLrwDKrTBm"
      }
    },
    {
      "cell_type": "code",
      "source": [
        "tokenizer = Tokenizer(num_words = 100) #Instantiate\n",
        "tokenizer.fit_on_texts(train_sentences) #train\n",
        "word_index = tokenizer.word_index #store words"
      ],
      "metadata": {
        "id": "9r5GuDzVllCS"
      },
      "execution_count": null,
      "outputs": []
    },
    {
      "cell_type": "code",
      "source": [
        "print(word_index)"
      ],
      "metadata": {
        "colab": {
          "base_uri": "https://localhost:8080/"
        },
        "id": "bkYLMS4VrX8h",
        "outputId": "9c0920b7-9cf0-4397-c8a9-c0a44f0b2a5a"
      },
      "execution_count": null,
      "outputs": [
        {
          "output_type": "stream",
          "name": "stdout",
          "text": [
            "{'it': 1, 'is': 2, 'a': 3, 'day': 4, 'sunny': 5, 'cloudy': 6, 'will': 7, 'rain': 8, 'today': 9}\n"
          ]
        }
      ]
    },
    {
      "cell_type": "markdown",
      "source": [
        "Create Sequences"
      ],
      "metadata": {
        "id": "e8qN9CaPrq3E"
      }
    },
    {
      "cell_type": "code",
      "source": [
        "#Create sequence using tokenizer\n",
        "sequences = tokenizer.texts_to_sequences(train_sentences)"
      ],
      "metadata": {
        "id": "JoEfrF7Lrt9a"
      },
      "execution_count": null,
      "outputs": []
    },
    {
      "cell_type": "code",
      "source": [
        "#print word dictionaries and sequences\n",
        "print(f'Word indexes >>>>{word_index}')\n",
        "print(f'Sequences of words >>>>{sequences}')"
      ],
      "metadata": {
        "colab": {
          "base_uri": "https://localhost:8080/"
        },
        "id": "u4kefUlRsDWq",
        "outputId": "121fd2a6-d9b3-4b79-8989-87050298ed39"
      },
      "execution_count": null,
      "outputs": [
        {
          "output_type": "stream",
          "name": "stdout",
          "text": [
            "Word indexes >>>>{'it': 1, 'is': 2, 'a': 3, 'day': 4, 'sunny': 5, 'cloudy': 6, 'will': 7, 'rain': 8, 'today': 9}\n",
            "Sequences of words >>>>[[1, 2, 3, 5, 4], [1, 2, 3, 6, 4], [7, 1, 8, 9]]\n"
          ]
        }
      ]
    },
    {
      "cell_type": "code",
      "source": [
        "print(train_sentences[0])\n",
        "print(sequences[0])"
      ],
      "metadata": {
        "colab": {
          "base_uri": "https://localhost:8080/"
        },
        "id": "NqwdQRPWsaQH",
        "outputId": "1e0b4fc6-6445-4f64-eef5-f341b971d581"
      },
      "execution_count": null,
      "outputs": [
        {
          "output_type": "stream",
          "name": "stdout",
          "text": [
            "It is a sunny day\n",
            "[1, 2, 3, 5, 4]\n"
          ]
        }
      ]
    },
    {
      "cell_type": "markdown",
      "source": [
        "Tokenizing new data using the same tokenizer"
      ],
      "metadata": {
        "id": "q6yf_TCdtbXj"
      }
    },
    {
      "cell_type": "code",
      "source": [
        "new_sentences = [\n",
        "    'Will it be raining today?',\n",
        "    'It is a pleasant day.'\n",
        "]"
      ],
      "metadata": {
        "id": "_luDMF5ssyCt"
      },
      "execution_count": null,
      "outputs": []
    },
    {
      "cell_type": "code",
      "source": [
        "new_sequences = tokenizer.texts_to_sequences(new_sentences)"
      ],
      "metadata": {
        "id": "0wvkdXw1ttn2"
      },
      "execution_count": null,
      "outputs": []
    },
    {
      "cell_type": "code",
      "source": [
        "print(new_sentences)\n",
        "print(new_sequences)"
      ],
      "metadata": {
        "colab": {
          "base_uri": "https://localhost:8080/"
        },
        "id": "nKXIkDZAt6oR",
        "outputId": "bd2b794a-8f9c-4c69-80c7-14ec72151630"
      },
      "execution_count": null,
      "outputs": [
        {
          "output_type": "stream",
          "name": "stdout",
          "text": [
            "['Will it be raining today?', 'It is a pleasant day.']\n",
            "[[7, 1, 9], [1, 2, 3, 4]]\n"
          ]
        }
      ]
    },
    {
      "cell_type": "markdown",
      "source": [
        "Replacing newly encounted words with special values"
      ],
      "metadata": {
        "id": "kG0iWPsruSeW"
      }
    },
    {
      "cell_type": "code",
      "source": [
        "tokenizer = Tokenizer(num_words = 100, oov_token = '<oov>') #Instantiate\n",
        "tokenizer.fit_on_texts(train_sentences) #train\n",
        "word_index = tokenizer.word_index #store words"
      ],
      "metadata": {
        "id": "qANONiL7uBdK"
      },
      "execution_count": null,
      "outputs": []
    },
    {
      "cell_type": "code",
      "source": [
        "#create sequences of the new sentences\n",
        "new_sequences = tokenizer.texts_to_sequences(new_sentences)\n",
        "print(word_index)\n",
        "print(new_sentences)\n",
        "print(new_sequences)"
      ],
      "metadata": {
        "colab": {
          "base_uri": "https://localhost:8080/"
        },
        "id": "PqLrkAw-uqNO",
        "outputId": "14d24ca2-2342-49e6-efc1-d669e382a7bc"
      },
      "execution_count": null,
      "outputs": [
        {
          "output_type": "stream",
          "name": "stdout",
          "text": [
            "{'<oov>': 1, 'it': 2, 'is': 3, 'a': 4, 'day': 5, 'sunny': 6, 'cloudy': 7, 'will': 8, 'rain': 9, 'today': 10}\n",
            "['Will it be raining today?', 'It is a pleasant day.']\n",
            "[[8, 2, 1, 1, 10], [2, 3, 4, 1, 5]]\n"
          ]
        }
      ]
    },
    {
      "cell_type": "markdown",
      "source": [
        "Padding the sequences(for the sequences to be the same size)"
      ],
      "metadata": {
        "id": "vfWeyTOLltak"
      }
    },
    {
      "cell_type": "code",
      "source": [
        "#import required APIs\n",
        "from tensorflow.keras.preprocessing.text import Tokenizer\n",
        "from tensorflow.keras.preprocessing.sequence import pad_sequences"
      ],
      "metadata": {
        "id": "TxCDe4z9vCey"
      },
      "execution_count": 1,
      "outputs": []
    },
    {
      "cell_type": "markdown",
      "source": [
        "Define the training sentences"
      ],
      "metadata": {
        "id": "plBfK_eymR08"
      }
    },
    {
      "cell_type": "code",
      "source": [
        "train_sentences = [\n",
        "    'It will rain',\n",
        "    'The weather is cloudy!',\n",
        "    'Will it be raining today?',\n",
        "    'It is a super hot day!',\n",
        "\n",
        "]"
      ],
      "metadata": {
        "id": "3CSrXxikmLxt"
      },
      "execution_count": 2,
      "outputs": []
    },
    {
      "cell_type": "markdown",
      "source": [
        "Train the tokenizer"
      ],
      "metadata": {
        "id": "jGAtGWKcmsvJ"
      }
    },
    {
      "cell_type": "code",
      "source": [
        "tokenizer = Tokenizer(num_words = 100, oov_token = '<oov>') #Instantiate\n",
        "tokenizer.fit_on_texts(train_sentences) #train\n",
        "word_index = tokenizer.word_index #store words"
      ],
      "metadata": {
        "id": "DoMSxwhnmpB0"
      },
      "execution_count": 3,
      "outputs": []
    },
    {
      "cell_type": "code",
      "source": [
        "#create sequences of the new sentences\n",
        "sequences = tokenizer.texts_to_sequences(train_sentences)"
      ],
      "metadata": {
        "id": "kPRnRa1PnBWw"
      },
      "execution_count": 7,
      "outputs": []
    },
    {
      "cell_type": "markdown",
      "source": [
        "Pad Sequences"
      ],
      "metadata": {
        "id": "X9uPCyhBnUZB"
      }
    },
    {
      "cell_type": "code",
      "source": [
        "#Pad sequences\n",
        "padded_seqs = pad_sequences(sequences)"
      ],
      "metadata": {
        "id": "jhRmorfSnHit"
      },
      "execution_count": 8,
      "outputs": []
    },
    {
      "cell_type": "code",
      "source": [
        "print(word_index)\n",
        "print(train_sentences)\n",
        "print(sequences)\n",
        "print(padded_seqs)"
      ],
      "metadata": {
        "colab": {
          "base_uri": "https://localhost:8080/"
        },
        "id": "9p1Jr33TnhI2",
        "outputId": "846fd6b4-66a6-40d9-9651-d0d402103349"
      },
      "execution_count": 9,
      "outputs": [
        {
          "output_type": "stream",
          "name": "stdout",
          "text": [
            "{'<oov>': 1, 'it': 2, 'will': 3, 'is': 4, 'rain': 5, 'the': 6, 'weather': 7, 'cloudy': 8, 'be': 9, 'raining': 10, 'today': 11, 'a': 12, 'super': 13, 'hot': 14, 'day': 15}\n",
            "['It will rain', 'The weather is cloudy!', 'Will it be raining today?', 'It is a super hot day!']\n",
            "[[2, 3, 5], [6, 7, 4, 8], [3, 2, 9, 10, 11], [2, 4, 12, 13, 14, 15]]\n",
            "[[ 0  0  0  2  3  5]\n",
            " [ 0  0  6  7  4  8]\n",
            " [ 0  3  2  9 10 11]\n",
            " [ 2  4 12 13 14 15]]\n"
          ]
        }
      ]
    },
    {
      "cell_type": "markdown",
      "source": [
        "Customizing the padded sequences with parameters"
      ],
      "metadata": {
        "id": "Ap2YaH-4onyV"
      }
    },
    {
      "cell_type": "code",
      "source": [
        "padded_seqs = pad_sequences(sequences,\n",
        "                            padding = 'post',\n",
        "                            maxlen = 5,\n",
        "                            truncating = 'post',\n",
        ")"
      ],
      "metadata": {
        "id": "Qzcmu9SKn30d"
      },
      "execution_count": 10,
      "outputs": []
    },
    {
      "cell_type": "code",
      "source": [
        "print(padded_seqs)"
      ],
      "metadata": {
        "colab": {
          "base_uri": "https://localhost:8080/"
        },
        "id": "gM4oo4Y3o_0i",
        "outputId": "e4d1fc3a-2641-40a2-e603-c47a995bd053"
      },
      "execution_count": 11,
      "outputs": [
        {
          "output_type": "stream",
          "name": "stdout",
          "text": [
            "[[ 2  3  5  0  0]\n",
            " [ 6  7  4  8  0]\n",
            " [ 3  2  9 10 11]\n",
            " [ 2  4 12 13 14]]\n"
          ]
        }
      ]
    },
    {
      "cell_type": "code",
      "source": [],
      "metadata": {
        "id": "Yv088H6RpDB1"
      },
      "execution_count": null,
      "outputs": []
    }
  ]
}