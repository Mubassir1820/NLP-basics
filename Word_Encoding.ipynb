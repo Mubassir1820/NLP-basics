{
  "nbformat": 4,
  "nbformat_minor": 0,
  "metadata": {
    "colab": {
      "provenance": [],
      "authorship_tag": "ABX9TyPf6cxYC20PeDuj3wTILwj6",
      "include_colab_link": true
    },
    "kernelspec": {
      "name": "python3",
      "display_name": "Python 3"
    },
    "language_info": {
      "name": "python"
    }
  },
  "cells": [
    {
      "cell_type": "markdown",
      "metadata": {
        "id": "view-in-github",
        "colab_type": "text"
      },
      "source": [
        "<a href=\"https://colab.research.google.com/github/Mubassir1820/NLP-basics/blob/main/Word_Encoding.ipynb\" target=\"_parent\"><img src=\"https://colab.research.google.com/assets/colab-badge.svg\" alt=\"Open In Colab\"/></a>"
      ]
    },
    {
      "cell_type": "markdown",
      "source": [
        "Import Libraries and APIs"
      ],
      "metadata": {
        "id": "LaBFXWlFkO4g"
      }
    },
    {
      "cell_type": "code",
      "execution_count": null,
      "metadata": {
        "id": "OBLPu_k-jniw"
      },
      "outputs": [],
      "source": [
        "import tensorflow as tf\n",
        "from tensorflow import keras\n",
        "from tensorflow.keras.preprocessing.text import Tokenizer"
      ]
    },
    {
      "cell_type": "markdown",
      "source": [
        "Define Training Sentences"
      ],
      "metadata": {
        "id": "T60tahpXkTqA"
      }
    },
    {
      "cell_type": "code",
      "source": [
        "#Sentences to tokenize\n",
        "train_sentences = [\n",
        "    'It is a sunny day'\n",
        "    #add a new sentence here\n",
        "]"
      ],
      "metadata": {
        "id": "YsdaPirekMKU"
      },
      "execution_count": null,
      "outputs": []
    },
    {
      "cell_type": "markdown",
      "source": [
        "Setup the Tokenizer"
      ],
      "metadata": {
        "id": "44WyDX5ckyF2"
      }
    },
    {
      "cell_type": "code",
      "source": [
        "tokenizer = Tokenizer(num_words = 100) #Instantiate\n",
        "tokenizer.fit_on_texts(train_sentences) #train\n",
        "word_index = tokenizer.word_index #store words"
      ],
      "metadata": {
        "id": "2cBs5HIjkpqk"
      },
      "execution_count": null,
      "outputs": []
    },
    {
      "cell_type": "code",
      "source": [
        "print(word_index)"
      ],
      "metadata": {
        "colab": {
          "base_uri": "https://localhost:8080/"
        },
        "id": "b_x36pb6lhZi",
        "outputId": "bba61412-020c-4949-af5c-d1b4c4129dd1"
      },
      "execution_count": null,
      "outputs": [
        {
          "output_type": "stream",
          "name": "stdout",
          "text": [
            "{'it': 1, 'is': 2, 'a': 3, 'sunny': 4, 'day': 5}\n"
          ]
        }
      ]
    },
    {
      "cell_type": "markdown",
      "source": [],
      "metadata": {
        "id": "pUNP-Sjdpc3U"
      }
    },
    {
      "cell_type": "code",
      "source": [],
      "metadata": {
        "id": "xwlIvZ24pcmc"
      },
      "execution_count": null,
      "outputs": []
    },
    {
      "cell_type": "code",
      "source": [],
      "metadata": {
        "id": "9r5GuDzVllCS"
      },
      "execution_count": null,
      "outputs": []
    }
  ]
}