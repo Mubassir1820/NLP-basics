{
 "cells": [
  {
   "cell_type": "code",
   "execution_count": 1,
   "id": "b878d9fc",
   "metadata": {},
   "outputs": [],
   "source": [
    "import fasttext"
   ]
  },
  {
   "cell_type": "code",
   "execution_count": 2,
   "id": "2a753e7f",
   "metadata": {},
   "outputs": [
    {
     "name": "stderr",
     "output_type": "stream",
     "text": [
      "Warning : `load_model` does not return WordVectorModel or SupervisedModel any more, but a `FastText` object which is very similar.\n"
     ]
    }
   ],
   "source": [
    "model_en = fasttext.load_model('D:\\\\Python\\Machine Learning\\\\Fasttext pre-trained model(eng and hindi)\\\\cc.en.300.bin')"
   ]
  },
  {
   "cell_type": "code",
   "execution_count": 3,
   "id": "b8e30d0c",
   "metadata": {},
   "outputs": [
    {
     "data": {
      "text/plain": [
       "[(0.7517593502998352, 'bad'),\n",
       " (0.7426098585128784, 'great'),\n",
       " (0.7299689054489136, 'decent'),\n",
       " (0.7123614549636841, 'nice'),\n",
       " (0.6796907186508179, 'Good'),\n",
       " (0.6737031936645508, 'excellent'),\n",
       " (0.669592022895813, 'goood'),\n",
       " (0.6602178812026978, 'ggod'),\n",
       " (0.6479219794273376, 'semi-good'),\n",
       " (0.6417751908302307, 'good.Good')]"
      ]
     },
     "execution_count": 3,
     "metadata": {},
     "output_type": "execute_result"
    }
   ],
   "source": [
    "model_en.get_nearest_neighbors(\"good\") #to find similar contextual words"
   ]
  },
  {
   "cell_type": "code",
   "execution_count": 4,
   "id": "ad77f445",
   "metadata": {},
   "outputs": [
    {
     "data": {
      "text/plain": [
       "(300,)"
      ]
     },
     "execution_count": 4,
     "metadata": {},
     "output_type": "execute_result"
    }
   ],
   "source": [
    "model_en.get_word_vector(\"good\").shape"
   ]
  },
  {
   "cell_type": "code",
   "execution_count": 5,
   "id": "77248d87",
   "metadata": {},
   "outputs": [
    {
     "data": {
      "text/plain": [
       "[(0.7148876190185547, 'delhi'),\n",
       " (0.6974374055862427, 'mumbai'),\n",
       " (0.648612916469574, 'jaipur'),\n",
       " (0.6349966526031494, 'kolkata'),\n",
       " (0.6279922723770142, 'pune'),\n",
       " (0.6277596354484558, 'bangalore'),\n",
       " (0.6044078469276428, 'hyderabad'),\n",
       " (0.6021745800971985, 'noida'),\n",
       " (0.6018899083137512, 'bhubaneswar'),\n",
       " (0.599077582359314, 'nashik')]"
      ]
     },
     "execution_count": 5,
     "metadata": {},
     "output_type": "execute_result"
    }
   ],
   "source": [
    "model_en.get_analogies('berlin','germany','india') #identifying relationships between words"
   ]
  },
  {
   "cell_type": "code",
   "execution_count": 6,
   "id": "c64b4dfd",
   "metadata": {},
   "outputs": [
    {
     "data": {
      "text/plain": [
       "[(0.8078702092170715, 'chutneys'),\n",
       " (0.7138292789459229, 'thokku'),\n",
       " (0.701572060585022, 'Chutney'),\n",
       " (0.6875490546226501, 'achaar'),\n",
       " (0.684525728225708, 'piccalilli'),\n",
       " (0.6737173199653625, 'raita'),\n",
       " (0.6715506911277771, 'chatni'),\n",
       " (0.6610829830169678, 'chutney.'),\n",
       " (0.6505922675132751, 'gojju'),\n",
       " (0.6398508548736572, 'kasundi')]"
      ]
     },
     "execution_count": 6,
     "metadata": {},
     "output_type": "execute_result"
    }
   ],
   "source": [
    "model_en.get_nearest_neighbors('chutney')"
   ]
  },
  {
   "cell_type": "code",
   "execution_count": 7,
   "id": "42d48883",
   "metadata": {},
   "outputs": [
    {
     "data": {
      "text/plain": [
       "[(0.5384978652000427,\n",
       "  'ReportsTabloidCrimeYakuzaTokyoGinzaIkebukuroKabukichoRoppongiShibuyaShimbashiShinjukuUenoJapanChibaFukuokaKobeKyotoNagoyaOkinawaOsakaSaitamaYokohamaSportsBaseballHorse'),\n",
       " (0.5373231768608093,\n",
       "  'NoidaVaranasiBareillyMathuraAligarhMoradabadSaharanpurBijnorJaunpurGorakhpurMuzaffarnagarSultanpurDehradunHaridwarNainitalRoorkeeGarhwalBardhamanMurshidabadHooghlyMedinipurNorth'),\n",
       " (0.5331498980522156,\n",
       "  'NagarBhiwaniKarnalKurukshetraMahendragarhSirsaPanipatJindJhajjarRewariSolanShimlaKangraHamirpurMandiJammuSrinagarRanchiJamshedpurMangaloreMysoreBelgaumGulbargaTumkurBijapurDavanagereDharwadShimogaUdupiHassanBidarHubliKolarBagalkotKannadaChitradurgaMandyaGadagBellaryRaichurThiruvananthapuramThrissurErnakulamMalappuramKochiKottayamKannurKozhikodeKollamPalakkadPathanamthittaCalicutTrivandrumAlappuzhaKasaragodBhopalIndoreGwaliorJabalpurUjjainSagarChhatarpurPuneNagpurAurangabadNashikKolhapurAhmed')]"
      ]
     },
     "execution_count": 7,
     "metadata": {},
     "output_type": "execute_result"
    }
   ],
   "source": [
    "model_en.get_nearest_neighbors('saragva', k = 3)"
   ]
  },
  {
   "cell_type": "code",
   "execution_count": 8,
   "id": "c761f5d2",
   "metadata": {},
   "outputs": [],
   "source": [
    "#working on indian recipe dataset\n",
    "\n",
    "import pandas as pd"
   ]
  },
  {
   "cell_type": "code",
   "execution_count": 9,
   "id": "dba18fe0",
   "metadata": {},
   "outputs": [
    {
     "name": "stdout",
     "output_type": "stream",
     "text": [
      "(5938, 9)\n"
     ]
    },
    {
     "data": {
      "text/html": [
       "<div>\n",
       "<style scoped>\n",
       "    .dataframe tbody tr th:only-of-type {\n",
       "        vertical-align: middle;\n",
       "    }\n",
       "\n",
       "    .dataframe tbody tr th {\n",
       "        vertical-align: top;\n",
       "    }\n",
       "\n",
       "    .dataframe thead th {\n",
       "        text-align: right;\n",
       "    }\n",
       "</style>\n",
       "<table border=\"1\" class=\"dataframe\">\n",
       "  <thead>\n",
       "    <tr style=\"text-align: right;\">\n",
       "      <th></th>\n",
       "      <th>TranslatedRecipeName</th>\n",
       "      <th>TranslatedIngredients</th>\n",
       "      <th>TotalTimeInMins</th>\n",
       "      <th>Cuisine</th>\n",
       "      <th>TranslatedInstructions</th>\n",
       "      <th>URL</th>\n",
       "      <th>Cleaned-Ingredients</th>\n",
       "      <th>image-url</th>\n",
       "      <th>Ingredient-count</th>\n",
       "    </tr>\n",
       "  </thead>\n",
       "  <tbody>\n",
       "    <tr>\n",
       "      <th>0</th>\n",
       "      <td>Masala Karela Recipe</td>\n",
       "      <td>1 tablespoon Red Chilli powder,3 tablespoon Gr...</td>\n",
       "      <td>45</td>\n",
       "      <td>Indian</td>\n",
       "      <td>To begin making the Masala Karela Recipe,de-se...</td>\n",
       "      <td>https://www.archanaskitchen.com/masala-karela-...</td>\n",
       "      <td>salt,amchur (dry mango powder),karela (bitter ...</td>\n",
       "      <td>https://www.archanaskitchen.com/images/archana...</td>\n",
       "      <td>10</td>\n",
       "    </tr>\n",
       "    <tr>\n",
       "      <th>1</th>\n",
       "      <td>Spicy Tomato Rice (Recipe)</td>\n",
       "      <td>2 teaspoon cashew - or peanuts, 1/2 Teaspoon ...</td>\n",
       "      <td>15</td>\n",
       "      <td>South Indian Recipes</td>\n",
       "      <td>To make tomato puliogere, first cut the tomato...</td>\n",
       "      <td>https://www.archanaskitchen.com/spicy-tomato-r...</td>\n",
       "      <td>tomato,salt,chickpea lentils,green chilli,rice...</td>\n",
       "      <td>https://www.archanaskitchen.com/images/archana...</td>\n",
       "      <td>12</td>\n",
       "    </tr>\n",
       "    <tr>\n",
       "      <th>2</th>\n",
       "      <td>Ragi Semiya Upma Recipe - Ragi Millet Vermicel...</td>\n",
       "      <td>1 Onion - sliced,1 teaspoon White Urad Dal (Sp...</td>\n",
       "      <td>50</td>\n",
       "      <td>South Indian Recipes</td>\n",
       "      <td>To begin making the Ragi Vermicelli Recipe, fi...</td>\n",
       "      <td>https://www.archanaskitchen.com/ragi-vermicell...</td>\n",
       "      <td>salt,rice vermicelli noodles (thin),asafoetida...</td>\n",
       "      <td>https://www.archanaskitchen.com/images/archana...</td>\n",
       "      <td>12</td>\n",
       "    </tr>\n",
       "  </tbody>\n",
       "</table>\n",
       "</div>"
      ],
      "text/plain": [
       "                                TranslatedRecipeName  \\\n",
       "0                               Masala Karela Recipe   \n",
       "1                         Spicy Tomato Rice (Recipe)   \n",
       "2  Ragi Semiya Upma Recipe - Ragi Millet Vermicel...   \n",
       "\n",
       "                               TranslatedIngredients  TotalTimeInMins  \\\n",
       "0  1 tablespoon Red Chilli powder,3 tablespoon Gr...               45   \n",
       "1   2 teaspoon cashew - or peanuts, 1/2 Teaspoon ...               15   \n",
       "2  1 Onion - sliced,1 teaspoon White Urad Dal (Sp...               50   \n",
       "\n",
       "                Cuisine                             TranslatedInstructions  \\\n",
       "0                Indian  To begin making the Masala Karela Recipe,de-se...   \n",
       "1  South Indian Recipes  To make tomato puliogere, first cut the tomato...   \n",
       "2  South Indian Recipes  To begin making the Ragi Vermicelli Recipe, fi...   \n",
       "\n",
       "                                                 URL  \\\n",
       "0  https://www.archanaskitchen.com/masala-karela-...   \n",
       "1  https://www.archanaskitchen.com/spicy-tomato-r...   \n",
       "2  https://www.archanaskitchen.com/ragi-vermicell...   \n",
       "\n",
       "                                 Cleaned-Ingredients  \\\n",
       "0  salt,amchur (dry mango powder),karela (bitter ...   \n",
       "1  tomato,salt,chickpea lentils,green chilli,rice...   \n",
       "2  salt,rice vermicelli noodles (thin),asafoetida...   \n",
       "\n",
       "                                           image-url  Ingredient-count  \n",
       "0  https://www.archanaskitchen.com/images/archana...                10  \n",
       "1  https://www.archanaskitchen.com/images/archana...                12  \n",
       "2  https://www.archanaskitchen.com/images/archana...                12  "
      ]
     },
     "execution_count": 9,
     "metadata": {},
     "output_type": "execute_result"
    }
   ],
   "source": [
    "df = pd.read_csv('Cleaned_Indian_Food_Dataset.csv')\n",
    "print(df.shape)\n",
    "df.head(3)"
   ]
  },
  {
   "cell_type": "code",
   "execution_count": 10,
   "id": "b7d428f7",
   "metadata": {},
   "outputs": [
    {
     "data": {
      "text/plain": [
       "'To begin making the Masala Karela Recipe,de-seed the karela and slice.\\r\\nDo not remove the skin as the skin has all the nutrients.\\r\\nAdd the karela to the pressure cooker with 3 tablespoon of water, salt and turmeric powder and pressure cook for three whistles.\\r\\nRelease the pressure immediately and open the lids.\\r\\nKeep aside.Heat oil in a heavy bottomed pan or a kadhai.\\r\\nAdd cumin seeds and let it sizzle.Once the cumin seeds have sizzled, add onions and saute them till it turns golden brown in color.Add the karela, red chilli powder, amchur powder, coriander powder and besan.\\r\\nStir to combine the masalas into the karela.Drizzle a little extra oil on the top and mix again.\\r\\nCover the pan and simmer Masala Karela stirring occasionally until everything comes together well.\\r\\nTurn off the heat.Transfer Masala Karela into a serving bowl and serve.Serve Masala Karela along with Panchmel Dal and Phulka for a weekday meal with your family.\\r\\n'"
      ]
     },
     "execution_count": 10,
     "metadata": {},
     "output_type": "execute_result"
    }
   ],
   "source": [
    "df.TranslatedInstructions[0]"
   ]
  },
  {
   "cell_type": "code",
   "execution_count": 12,
   "id": "4b170240",
   "metadata": {},
   "outputs": [],
   "source": [
    "#preprocessing the text\n",
    "import re\n",
    "\n",
    "text = 'To begin making the Masala Karela Recipe,de-seed the karela and slice.\\r\\nDo not remove the skin as the skin has all the nutrients.\\r\\nAdd the karela to the pressure cooker with 3 tablespoon of water, salt and turmeric powder and pressure cook for three whistles.\\r\\nRelease the pressure immediately and open the lids.\\r\\nKeep aside.Heat oil in a heavy bottomed pan or a kadhai.\\r\\nAdd cumin seeds and let it sizzle.Once the cumin seeds have sizzled, add onions and saute them till it turns golden brown in color.Add the karela, red chilli powder, amchur powder, coriander powder and besan.\\r\\nStir to combine the masalas into the karela.Drizzle a little extra oil on the top and mix again.\\r\\nCover the pan and simmer Masala Karela stirring occasionally until everything comes together well.\\r\\nTurn off the heat.Transfer Masala Karela into a serving bowl and serve.Serve Masala Karela along with Panchmel Dal and Phulka for a weekday meal with your family.\\r\\n'"
   ]
  },
  {
   "cell_type": "code",
   "execution_count": 14,
   "id": "5dfd47a2",
   "metadata": {},
   "outputs": [
    {
     "data": {
      "text/plain": [
       "'To begin making the Masala Karela Recipe de seed the karela and slice \\r\\nDo not remove the skin as the skin has all the nutrients \\r\\nAdd the karela to the pressure cooker with 3 tablespoon of water  salt and turmeric powder and pressure cook for three whistles \\r\\nRelease the pressure immediately and open the lids \\r\\nKeep aside Heat oil in a heavy bottomed pan or a kadhai \\r\\nAdd cumin seeds and let it sizzle Once the cumin seeds have sizzled  add onions and saute them till it turns golden brown in color Add the karela  red chilli powder  amchur powder  coriander powder and besan \\r\\nStir to combine the masalas into the karela Drizzle a little extra oil on the top and mix again \\r\\nCover the pan and simmer Masala Karela stirring occasionally until everything comes together well \\r\\nTurn off the heat Transfer Masala Karela into a serving bowl and serve Serve Masala Karela along with Panchmel Dal and Phulka for a weekday meal with your family \\r\\n'"
      ]
     },
     "execution_count": 14,
     "metadata": {},
     "output_type": "execute_result"
    }
   ],
   "source": [
    "re.sub(r'[^\\w\\s]', ' ',text, flags = re.MULTILINE )# to remove special characters"
   ]
  },
  {
   "cell_type": "code",
   "execution_count": 27,
   "id": "5af465d9",
   "metadata": {},
   "outputs": [
    {
     "data": {
      "text/plain": [
       "'powder amchur powder coriander'"
      ]
     },
     "execution_count": 27,
     "metadata": {},
     "output_type": "execute_result"
    }
   ],
   "source": [
    "re.sub(r\"[ \\n]+\",\" \",'powder  amchur powder  coriander').lower()# to remove extra spaces and \\n with a single space"
   ]
  },
  {
   "cell_type": "code",
   "execution_count": 33,
   "id": "5dc31133",
   "metadata": {},
   "outputs": [],
   "source": [
    "def preprocess(text):\n",
    "    text = re.sub(r\"[^\\w\\s\\']\",' ', text)\n",
    "    text = re.sub(r'[ \\n]+', ' ', text)\n",
    "    return text.strip().lower() "
   ]
  },
  {
   "cell_type": "code",
   "execution_count": 37,
   "id": "aeab7b8e",
   "metadata": {},
   "outputs": [
    {
     "data": {
      "text/plain": [
       "'to begin making the masala karela recipe de seed the karela and slice \\r do not remove the skin as the skin has all the nutrients \\r add the karela to the pressure cooker with 3 tablespoon of water salt and turmeric powder and pressure cook for three whistles \\r release the pressure immediately and open the lids \\r keep aside heat oil in a heavy bottomed pan or a kadhai \\r add cumin seeds and let it sizzle once the cumin seeds have sizzled add onions and saute them till it turns golden brown in color add the karela red chilli powder amchur powder coriander powder and besan \\r stir to combine the masalas into the karela drizzle a little extra oil on the top and mix again \\r cover the pan and simmer masala karela stirring occasionally until everything comes together well \\r turn off the heat transfer masala karela into a serving bowl and serve serve masala karela along with panchmel dal and phulka for a weekday meal with your family'"
      ]
     },
     "execution_count": 37,
     "metadata": {},
     "output_type": "execute_result"
    }
   ],
   "source": [
    "preprocess(text)"
   ]
  },
  {
   "cell_type": "code",
   "execution_count": 35,
   "id": "14552d4b",
   "metadata": {},
   "outputs": [],
   "source": [
    "df.TranslatedInstructions = df.TranslatedInstructions.map(preprocess)"
   ]
  },
  {
   "cell_type": "code",
   "execution_count": 36,
   "id": "1102c7d7",
   "metadata": {},
   "outputs": [
    {
     "data": {
      "text/html": [
       "<div>\n",
       "<style scoped>\n",
       "    .dataframe tbody tr th:only-of-type {\n",
       "        vertical-align: middle;\n",
       "    }\n",
       "\n",
       "    .dataframe tbody tr th {\n",
       "        vertical-align: top;\n",
       "    }\n",
       "\n",
       "    .dataframe thead th {\n",
       "        text-align: right;\n",
       "    }\n",
       "</style>\n",
       "<table border=\"1\" class=\"dataframe\">\n",
       "  <thead>\n",
       "    <tr style=\"text-align: right;\">\n",
       "      <th></th>\n",
       "      <th>TranslatedRecipeName</th>\n",
       "      <th>TranslatedIngredients</th>\n",
       "      <th>TotalTimeInMins</th>\n",
       "      <th>Cuisine</th>\n",
       "      <th>TranslatedInstructions</th>\n",
       "      <th>URL</th>\n",
       "      <th>Cleaned-Ingredients</th>\n",
       "      <th>image-url</th>\n",
       "      <th>Ingredient-count</th>\n",
       "    </tr>\n",
       "  </thead>\n",
       "  <tbody>\n",
       "    <tr>\n",
       "      <th>0</th>\n",
       "      <td>Masala Karela Recipe</td>\n",
       "      <td>1 tablespoon Red Chilli powder,3 tablespoon Gr...</td>\n",
       "      <td>45</td>\n",
       "      <td>Indian</td>\n",
       "      <td>to begin making the masala karela recipe de se...</td>\n",
       "      <td>https://www.archanaskitchen.com/masala-karela-...</td>\n",
       "      <td>salt,amchur (dry mango powder),karela (bitter ...</td>\n",
       "      <td>https://www.archanaskitchen.com/images/archana...</td>\n",
       "      <td>10</td>\n",
       "    </tr>\n",
       "    <tr>\n",
       "      <th>1</th>\n",
       "      <td>Spicy Tomato Rice (Recipe)</td>\n",
       "      <td>2 teaspoon cashew - or peanuts, 1/2 Teaspoon ...</td>\n",
       "      <td>15</td>\n",
       "      <td>South Indian Recipes</td>\n",
       "      <td>to make tomato puliogere first cut the tomatoe...</td>\n",
       "      <td>https://www.archanaskitchen.com/spicy-tomato-r...</td>\n",
       "      <td>tomato,salt,chickpea lentils,green chilli,rice...</td>\n",
       "      <td>https://www.archanaskitchen.com/images/archana...</td>\n",
       "      <td>12</td>\n",
       "    </tr>\n",
       "    <tr>\n",
       "      <th>2</th>\n",
       "      <td>Ragi Semiya Upma Recipe - Ragi Millet Vermicel...</td>\n",
       "      <td>1 Onion - sliced,1 teaspoon White Urad Dal (Sp...</td>\n",
       "      <td>50</td>\n",
       "      <td>South Indian Recipes</td>\n",
       "      <td>to begin making the ragi vermicelli recipe fir...</td>\n",
       "      <td>https://www.archanaskitchen.com/ragi-vermicell...</td>\n",
       "      <td>salt,rice vermicelli noodles (thin),asafoetida...</td>\n",
       "      <td>https://www.archanaskitchen.com/images/archana...</td>\n",
       "      <td>12</td>\n",
       "    </tr>\n",
       "    <tr>\n",
       "      <th>3</th>\n",
       "      <td>Gongura Chicken Curry Recipe - Andhra Style Go...</td>\n",
       "      <td>1/2 teaspoon Turmeric powder (Haldi),1 tablesp...</td>\n",
       "      <td>45</td>\n",
       "      <td>Andhra</td>\n",
       "      <td>to begin making gongura chicken curry recipe f...</td>\n",
       "      <td>https://www.archanaskitchen.com/gongura-chicke...</td>\n",
       "      <td>tomato,salt,ginger,sorrel leaves (gongura),fen...</td>\n",
       "      <td>https://www.archanaskitchen.com/images/archana...</td>\n",
       "      <td>15</td>\n",
       "    </tr>\n",
       "    <tr>\n",
       "      <th>4</th>\n",
       "      <td>Andhra Style Alam Pachadi Recipe - Adrak Chutn...</td>\n",
       "      <td>oil - as per use, 1 tablespoon coriander seed...</td>\n",
       "      <td>30</td>\n",
       "      <td>Andhra</td>\n",
       "      <td>to make andhra style alam pachadi first heat o...</td>\n",
       "      <td>https://www.archanaskitchen.com/andhra-style-a...</td>\n",
       "      <td>tomato,salt,ginger,red chillies,curry,asafoeti...</td>\n",
       "      <td>https://www.archanaskitchen.com/images/archana...</td>\n",
       "      <td>12</td>\n",
       "    </tr>\n",
       "  </tbody>\n",
       "</table>\n",
       "</div>"
      ],
      "text/plain": [
       "                                TranslatedRecipeName  \\\n",
       "0                               Masala Karela Recipe   \n",
       "1                         Spicy Tomato Rice (Recipe)   \n",
       "2  Ragi Semiya Upma Recipe - Ragi Millet Vermicel...   \n",
       "3  Gongura Chicken Curry Recipe - Andhra Style Go...   \n",
       "4  Andhra Style Alam Pachadi Recipe - Adrak Chutn...   \n",
       "\n",
       "                               TranslatedIngredients  TotalTimeInMins  \\\n",
       "0  1 tablespoon Red Chilli powder,3 tablespoon Gr...               45   \n",
       "1   2 teaspoon cashew - or peanuts, 1/2 Teaspoon ...               15   \n",
       "2  1 Onion - sliced,1 teaspoon White Urad Dal (Sp...               50   \n",
       "3  1/2 teaspoon Turmeric powder (Haldi),1 tablesp...               45   \n",
       "4   oil - as per use, 1 tablespoon coriander seed...               30   \n",
       "\n",
       "                Cuisine                             TranslatedInstructions  \\\n",
       "0                Indian  to begin making the masala karela recipe de se...   \n",
       "1  South Indian Recipes  to make tomato puliogere first cut the tomatoe...   \n",
       "2  South Indian Recipes  to begin making the ragi vermicelli recipe fir...   \n",
       "3                Andhra  to begin making gongura chicken curry recipe f...   \n",
       "4                Andhra  to make andhra style alam pachadi first heat o...   \n",
       "\n",
       "                                                 URL  \\\n",
       "0  https://www.archanaskitchen.com/masala-karela-...   \n",
       "1  https://www.archanaskitchen.com/spicy-tomato-r...   \n",
       "2  https://www.archanaskitchen.com/ragi-vermicell...   \n",
       "3  https://www.archanaskitchen.com/gongura-chicke...   \n",
       "4  https://www.archanaskitchen.com/andhra-style-a...   \n",
       "\n",
       "                                 Cleaned-Ingredients  \\\n",
       "0  salt,amchur (dry mango powder),karela (bitter ...   \n",
       "1  tomato,salt,chickpea lentils,green chilli,rice...   \n",
       "2  salt,rice vermicelli noodles (thin),asafoetida...   \n",
       "3  tomato,salt,ginger,sorrel leaves (gongura),fen...   \n",
       "4  tomato,salt,ginger,red chillies,curry,asafoeti...   \n",
       "\n",
       "                                           image-url  Ingredient-count  \n",
       "0  https://www.archanaskitchen.com/images/archana...                10  \n",
       "1  https://www.archanaskitchen.com/images/archana...                12  \n",
       "2  https://www.archanaskitchen.com/images/archana...                12  \n",
       "3  https://www.archanaskitchen.com/images/archana...                15  \n",
       "4  https://www.archanaskitchen.com/images/archana...                12  "
      ]
     },
     "execution_count": 36,
     "metadata": {},
     "output_type": "execute_result"
    }
   ],
   "source": [
    "df.head()"
   ]
  },
  {
   "cell_type": "code",
   "execution_count": 38,
   "id": "e50c167a",
   "metadata": {},
   "outputs": [
    {
     "data": {
      "text/plain": [
       "'to begin making the masala karela recipe de seed the karela and slice \\r do not remove the skin as the skin has all the nutrients \\r add the karela to the pressure cooker with 3 tablespoon of water salt and turmeric powder and pressure cook for three whistles \\r release the pressure immediately and open the lids \\r keep aside heat oil in a heavy bottomed pan or a kadhai \\r add cumin seeds and let it sizzle once the cumin seeds have sizzled add onions and saute them till it turns golden brown in color add the karela red chilli powder amchur powder coriander powder and besan \\r stir to combine the masalas into the karela drizzle a little extra oil on the top and mix again \\r cover the pan and simmer masala karela stirring occasionally until everything comes together well \\r turn off the heat transfer masala karela into a serving bowl and serve serve masala karela along with panchmel dal and phulka for a weekday meal with your family'"
      ]
     },
     "execution_count": 38,
     "metadata": {},
     "output_type": "execute_result"
    }
   ],
   "source": [
    "df.TranslatedInstructions[0]"
   ]
  },
  {
   "cell_type": "code",
   "execution_count": 40,
   "id": "a35a1b73",
   "metadata": {},
   "outputs": [],
   "source": [
    "df.to_csv('food_receipes.txt', columns = ['TranslatedInstructions'], header = None, index = False)"
   ]
  },
  {
   "cell_type": "code",
   "execution_count": 42,
   "id": "dea1d0f0",
   "metadata": {},
   "outputs": [],
   "source": [
    "model = fasttext.train_unsupervised('food_receipes.txt')"
   ]
  },
  {
   "cell_type": "code",
   "execution_count": 43,
   "id": "bfacc843",
   "metadata": {},
   "outputs": [
    {
     "data": {
      "text/plain": [
       "[(0.9499856233596802, 'chutneys'),\n",
       " (0.9408565163612366, 'chutney\"'),\n",
       " (0.7237465381622314, 'dhaniya'),\n",
       " (0.7046383023262024, 'khajur'),\n",
       " (0.6889012455940247, 'sippe'),\n",
       " (0.68428635597229, 'imli'),\n",
       " (0.6589552164077759, 'pudina'),\n",
       " (0.654304027557373, 'madurai'),\n",
       " (0.6482632160186768, 'brahmi'),\n",
       " (0.6460627317428589, 'south')]"
      ]
     },
     "execution_count": 43,
     "metadata": {},
     "output_type": "execute_result"
    }
   ],
   "source": [
    "model.get_nearest_neighbors('chutney')"
   ]
  },
  {
   "cell_type": "code",
   "execution_count": 44,
   "id": "631a343c",
   "metadata": {},
   "outputs": [
    {
     "data": {
      "text/plain": [
       "[(0.8333693742752075, 'fansi'),\n",
       " (0.8319253921508789, 'agathi'),\n",
       " (0.8287053108215332, 'kele'),\n",
       " (0.819269061088562, 'sukhi'),\n",
       " (0.8165891766548157, 'shaak'),\n",
       " (0.8148819804191589, 'tuvar'),\n",
       " (0.8124698400497437, 'tidali'),\n",
       " (0.809542179107666, 'besara'),\n",
       " (0.7981406450271606, 'koddel'),\n",
       " (0.7938146591186523, 'turai')]"
      ]
     },
     "execution_count": 44,
     "metadata": {},
     "output_type": "execute_result"
    }
   ],
   "source": [
    "model.get_nearest_neighbors('saragva')"
   ]
  },
  {
   "cell_type": "code",
   "execution_count": 45,
   "id": "7c14ee45",
   "metadata": {},
   "outputs": [
    {
     "data": {
      "text/plain": [
       "[(0.8644468188285828, 'dosai'),\n",
       " (0.8363643288612366, 'dosa\"'),\n",
       " (0.827142596244812, 'dosas'),\n",
       " (0.715976357460022, 'dose'),\n",
       " (0.7142788767814636, 'uthappam'),\n",
       " (0.7077785730361938, 'uttapam'),\n",
       " (0.7067171335220337, 'pesarattu'),\n",
       " (0.6778630614280701, 'doddak'),\n",
       " (0.660395622253418, 'chembaruthi'),\n",
       " (0.6556918621063232, 'nei')]"
      ]
     },
     "execution_count": 45,
     "metadata": {},
     "output_type": "execute_result"
    }
   ],
   "source": [
    "model.get_nearest_neighbors('dosa')"
   ]
  },
  {
   "cell_type": "code",
   "execution_count": null,
   "id": "653f797b",
   "metadata": {},
   "outputs": [],
   "source": []
  }
 ],
 "metadata": {
  "kernelspec": {
   "display_name": "Python 3 (ipykernel)",
   "language": "python",
   "name": "python3"
  },
  "language_info": {
   "codemirror_mode": {
    "name": "ipython",
    "version": 3
   },
   "file_extension": ".py",
   "mimetype": "text/x-python",
   "name": "python",
   "nbconvert_exporter": "python",
   "pygments_lexer": "ipython3",
   "version": "3.9.12"
  }
 },
 "nbformat": 4,
 "nbformat_minor": 5
}
