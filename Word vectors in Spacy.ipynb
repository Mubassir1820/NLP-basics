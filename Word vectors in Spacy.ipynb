{
 "cells": [
  {
   "cell_type": "code",
   "execution_count": 2,
   "id": "8d27a752",
   "metadata": {},
   "outputs": [],
   "source": [
    "import spacy\n",
    "\n",
    "nlp = spacy.load('en_core_web_lg') #sm(small) package has no vectors,so we need to load lg or large model from spacy\n"
   ]
  },
  {
   "cell_type": "code",
   "execution_count": 3,
   "id": "4be03a35",
   "metadata": {},
   "outputs": [
    {
     "name": "stdout",
     "output_type": "stream",
     "text": [
      "dog True False\n",
      "cat True False\n",
      "banana True False\n",
      "afskfsd False True\n"
     ]
    }
   ],
   "source": [
    "doc = nlp('dog cat banana afskfsd')\n",
    "\n",
    "for token in doc:\n",
    "    print(token.text, token.has_vector, token.is_oov)"
   ]
  },
  {
   "cell_type": "code",
   "execution_count": 4,
   "id": "f409e701",
   "metadata": {},
   "outputs": [
    {
     "data": {
      "text/plain": [
       "(300,)"
      ]
     },
     "execution_count": 4,
     "metadata": {},
     "output_type": "execute_result"
    }
   ],
   "source": [
    "doc[0].vector.shape"
   ]
  },
  {
   "cell_type": "code",
   "execution_count": 13,
   "id": "e66657fc",
   "metadata": {},
   "outputs": [
    {
     "data": {
      "text/plain": [
       "(300,)"
      ]
     },
     "execution_count": 13,
     "metadata": {},
     "output_type": "execute_result"
    }
   ],
   "source": [
    "base_token = nlp('Bread')\n",
    "base_token[0].vector.shape"
   ]
  },
  {
   "cell_type": "code",
   "execution_count": 14,
   "id": "244e8696",
   "metadata": {},
   "outputs": [
    {
     "name": "stdout",
     "output_type": "stream",
     "text": [
      "Bread <-> Bread: 1.0\n",
      "burger <-> Bread: 0.35131943225860596\n",
      "car <-> Bread: -0.19525480270385742\n",
      "tiger <-> Bread: -0.11783967912197113\n",
      "human <-> Bread: 0.07154783606529236\n",
      "wheat <-> Bread: 0.3531514108181\n"
     ]
    }
   ],
   "source": [
    "doc = nlp('Bread burger car tiger human wheat')\n",
    "\n",
    "for token in doc:\n",
    "    print(f'{token.text} <-> {base_token.text}:', token.similarity(base_token[0]))"
   ]
  },
  {
   "cell_type": "code",
   "execution_count": 17,
   "id": "10f7cbd7",
   "metadata": {},
   "outputs": [],
   "source": [
    "def print_similarity(base_word, words_to_compare):\n",
    "    base_token = nlp(base_word)\n",
    "    doc = nlp(words_to_compare)\n",
    "    for token in doc:\n",
    "        print(f'{token.text} <-> {base_token.text}:', token.similarity(base_token[0]))"
   ]
  },
  {
   "cell_type": "code",
   "execution_count": 18,
   "id": "a66432cb",
   "metadata": {},
   "outputs": [
    {
     "name": "stdout",
     "output_type": "stream",
     "text": [
      "apple <-> iphone: 0.43879079818725586\n",
      "samsung <-> iphone: 0.6708590388298035\n",
      "iphone <-> iphone: 1.0\n",
      "dog <-> iphone: 0.08211863785982132\n",
      "kitten <-> iphone: 0.10222318023443222\n"
     ]
    }
   ],
   "source": [
    "print_similarity('iphone', 'apple samsung iphone dog kitten')"
   ]
  },
  {
   "cell_type": "code",
   "execution_count": 19,
   "id": "a761388d",
   "metadata": {},
   "outputs": [],
   "source": [
    "king = nlp.vocab['king'].vector\n",
    "man = nlp.vocab['man'].vector\n",
    "woman = nlp.vocab['woman'].vector\n",
    "queen = nlp.vocab['queen'].vector\n",
    "\n",
    "result = king - man + woman"
   ]
  },
  {
   "cell_type": "code",
   "execution_count": 20,
   "id": "ea87529c",
   "metadata": {},
   "outputs": [
    {
     "data": {
      "text/plain": [
       "array([[0.6178014]], dtype=float32)"
      ]
     },
     "execution_count": 20,
     "metadata": {},
     "output_type": "execute_result"
    }
   ],
   "source": [
    "from sklearn.metrics.pairwise import cosine_similarity\n",
    "\n",
    "cosine_similarity([result],[queen])"
   ]
  },
  {
   "cell_type": "code",
   "execution_count": null,
   "id": "5d75e5bb",
   "metadata": {},
   "outputs": [],
   "source": []
  }
 ],
 "metadata": {
  "kernelspec": {
   "display_name": "Python 3 (ipykernel)",
   "language": "python",
   "name": "python3"
  },
  "language_info": {
   "codemirror_mode": {
    "name": "ipython",
    "version": 3
   },
   "file_extension": ".py",
   "mimetype": "text/x-python",
   "name": "python",
   "nbconvert_exporter": "python",
   "pygments_lexer": "ipython3",
   "version": "3.9.12"
  }
 },
 "nbformat": 4,
 "nbformat_minor": 5
}
